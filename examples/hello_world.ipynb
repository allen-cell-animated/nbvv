{
 "cells": [
  {
   "cell_type": "code",
   "execution_count": 1,
   "metadata": {},
   "outputs": [],
   "source": [
    "import numpy as np\n",
    "import matplotlib.pyplot as plt\n",
    "%matplotlib inline"
   ]
  },
  {
   "cell_type": "code",
   "execution_count": 2,
   "metadata": {},
   "outputs": [
    {
     "data": {
      "text/plain": [
       "(3, 10, 100, 100)"
      ]
     },
     "execution_count": 2,
     "metadata": {},
     "output_type": "execute_result"
    }
   ],
   "source": [
    "# Channel 1 is bright at base\n",
    "x = np.linspace(0,1,10)\n",
    "channel_1 = np.tile(np.exp(-x/.5) ,(100,100,1))\n",
    "\n",
    "# Channel 2 is a gaussian noise\n",
    "channel_2 = np.random.randn(100,100,10)\n",
    "\n",
    "# Channel 3 is a block in the center \n",
    "channel_3 = np.zeros((100,100,1))\n",
    "channel_3[25:75,25:75]=1\n",
    "channel_3 = np.tile(channel_3, (1,1,10))\n",
    "\n",
    "# Sample is combined\n",
    "sample = np.stack((channel_1, channel_2, channel_3), -1)\n",
    "sample = sample.transpose([3,2,1,0])\n",
    "sample.shape"
   ]
  },
  {
   "cell_type": "code",
   "execution_count": 3,
   "metadata": {},
   "outputs": [
    {
     "data": {
      "application/vnd.jupyter.widget-view+json": {
       "model_id": "c515e9c213974e2882fbdac5654889a0",
       "version_major": 2,
       "version_minor": 0
      },
      "text/plain": [
       "VolumeWidget(dimensions={'tile_width': 100, 'tile_height': 100, 'rows': 3, 'cols': 4, 'atlas_width': 400, 'atl…"
      ]
     },
     "metadata": {},
     "output_type": "display_data"
    }
   ],
   "source": [
    "import nbvv\n",
    "nbvv.volshow(sample, spacing=(1.0,1.0,4.0))"
   ]
  },
  {
   "cell_type": "code",
   "execution_count": null,
   "metadata": {},
   "outputs": [],
   "source": []
  }
 ],
 "metadata": {
  "kernelspec": {
   "display_name": "Python 3",
   "language": "python",
   "name": "python3"
  },
  "language_info": {
   "codemirror_mode": {
    "name": "ipython",
    "version": 3
   },
   "file_extension": ".py",
   "mimetype": "text/x-python",
   "name": "python",
   "nbconvert_exporter": "python",
   "pygments_lexer": "ipython3",
   "version": "3.7.7"
  }
 },
 "nbformat": 4,
 "nbformat_minor": 2
}