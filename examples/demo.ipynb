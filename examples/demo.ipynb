{
 "cells": [
  {
   "cell_type": "code",
   "execution_count": 1,
   "metadata": {},
   "outputs": [
    {
     "data": {
      "text/plain": [
       "(9, 70, 624, 924)"
      ]
     },
     "execution_count": 1,
     "metadata": {},
     "output_type": "execute_result"
    }
   ],
   "source": [
    "import numpy\n",
    "from aicsimageio import AICSImage\n",
    "import nbvv\n",
    "image = AICSImage(\"/Users/danielt/Downloads/AICS-12_821.ome.tif\")\n",
    "imgdata = image.get_image_data(\"CZYX\", T=0)\n",
    "imgdata.shape"
   ]
  },
  {
   "cell_type": "code",
   "execution_count": 2,
   "metadata": {},
   "outputs": [
    {
     "data": {
      "application/vnd.jupyter.widget-view+json": {
       "model_id": "57db68c2aea743a7a7d3f7f3195d9f9a",
       "version_major": 2,
       "version_minor": 0
      },
      "text/plain": [
       "VolumeWidget(dimensions={'tile_width': 292, 'tile_height': 204, 'rows': 10, 'cols': 7, 'atlas_width': 2044, 'a…"
      ]
     },
     "metadata": {},
     "output_type": "display_data"
    }
   ],
   "source": [
    "nbvv.volshow(imgdata, spacing=(1.0, 1.0, 4.0), channel_names=image.channel_names)"
   ]
  },
  {
   "cell_type": "code",
   "execution_count": null,
   "metadata": {},
   "outputs": [],
   "source": []
  }
 ],
 "metadata": {
  "kernelspec": {
   "display_name": "Python 3",
   "language": "python",
   "name": "python3"
  },
  "language_info": {
   "codemirror_mode": {
    "name": "ipython",
    "version": 3
   },
   "file_extension": ".py",
   "mimetype": "text/x-python",
   "name": "python",
   "nbconvert_exporter": "python",
   "pygments_lexer": "ipython3",
   "version": "3.8.5"
  }
 },
 "nbformat": 4,
 "nbformat_minor": 2
}
